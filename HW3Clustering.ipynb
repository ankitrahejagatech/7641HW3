{
 "cells": [
  {
   "cell_type": "code",
   "execution_count": 3,
   "metadata": {},
   "outputs": [],
   "source": [
    "from sklearn.experimental import enable_iterative_imputer\n",
    "from sklearn.preprocessing import LabelEncoder,StandardScaler\n",
    "from sklearn.impute import IterativeImputer\n",
    "from sklearn.linear_model import BayesianRidge  # Example estimator\n",
    "import pandas as pd\n",
    "import numpy as np\n",
    "from sklearn.neural_network import MLPClassifier\n",
    "from sklearn.model_selection import train_test_split\n",
    "import warnings\n",
    "warnings.filterwarnings('ignore')\n",
    "import seaborn as sns\n",
    "import matplotlib.pyplot as plt\n",
    "import numpy as np\n",
    "from sklearn.model_selection import train_test_split,GridSearchCV,cross_validate\n",
    "from sklearn.preprocessing import OneHotEncoder,StandardScaler\n",
    "from sklearn.metrics import roc_auc_score, accuracy_score, f1_score, precision_score, recall_score, confusion_matrix\n",
    "\n",
    "from sklearn.datasets import load_diabetes\n",
    "import time\n",
    "from sklearn.neighbors import KNeighborsClassifier\n",
    "from sklearn.model_selection import cross_val_score\n",
    "from sklearn.svm import SVC\n",
    "from sklearn.model_selection import cross_val_predict\n",
    "from sklearn.model_selection import learning_curve\n",
    "from sklearn.metrics import confusion_matrix, ConfusionMatrixDisplay, make_scorer, recall_score "
   ]
  },
  {
   "cell_type": "code",
   "execution_count": 4,
   "metadata": {},
   "outputs": [],
   "source": [
    "bank_marketing = pd.read_csv('BankMarketingData.csv')\n",
    "diabetes = pd.read_csv('diabetes.csv')\n",
    "diabetes['Outcome'] = diabetes['Outcome'].astype('category')\n",
    "scaler = StandardScaler()\n",
    "num_var =  ['Pregnancies', 'Glucose', 'BloodPressure', 'SkinThickness', 'Insulin',\n",
    "       'BMI', 'DiabetesPedigreeFunction', 'Age']\n",
    "diabetes[num_var] = scaler.fit_transform(diabetes[num_var])\n",
    "cols = list(diabetes.columns)\n",
    "cols.insert(0, cols.pop(cols.index('Outcome')))\n",
    "diabetes = diabetes[cols]\n",
    "\n",
    "#bankmarketing preprocessing\n",
    "bank_marketing['y'] = bank_marketing['y'].replace({'yes': 1, 'no': 0}).astype('category')\n",
    "bank_marketing = bank_marketing.apply(lambda x: x.fillna(x.mean()) if x.dtype.kind in 'biufc' else x.replace('unknown', x.mode()[0]).fillna(x.mode()[0]))\n",
    "bank_marketing['previous_contact'] = bank_marketing['pdays'].apply(lambda x: False if x == 999 else True)\n",
    "numerical_cols = bank_marketing.select_dtypes(include=['number']).columns.tolist()\n",
    "bank_marketing[numerical_cols]=scaler.fit_transform(bank_marketing[numerical_cols])\n",
    "categorical_cols = bank_marketing.select_dtypes(include=['object']).columns.tolist()\n",
    "X1_encoded = pd.get_dummies(bank_marketing, columns=categorical_cols)\n",
    "bank_marketing = X1_encoded\n",
    "cols = list(bank_marketing.columns)\n",
    "cols.insert(0, cols.pop(cols.index('y')))\n",
    "bank_marketing = bank_marketing[cols]"
   ]
  }
 ],
 "metadata": {
  "language_info": {
   "name": "python"
  }
 },
 "nbformat": 4,
 "nbformat_minor": 2
}
