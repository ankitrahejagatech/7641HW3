{
 "cells": [
  {
   "cell_type": "markdown",
   "metadata": {},
   "source": [
    "# Synthesis of Assignment Requirements\n",
    "\n",
    "### Algorithms to Implement:\n",
    "1. **Clustering Algorithms**: Expectation Maximization, K-Means\n",
    "2. **Dimensionality Reduction Algorithms**: PCA, ICA, Randomized Projections\n",
    "\n",
    "### Datasets:\n",
    "1. Diabetes\n",
    "2. BankMarketing"
   ]
  },
  {
   "cell_type": "markdown",
   "metadata": {},
   "source": [
    "# Steps for Exploration:\n",
    "1. **Step 1**: Apply clustering algorithms to both datasets. (4 demonstrations)\n",
    "2. **Step 2**: Apply dimensionality reduction algorithms to both datasets. (6 demonstrations)\n",
    "3. **Step 3**: Re-apply clustering algorithms on datasets after dimensionality reduction. (16 combinations; 4 total demonstrations focusing on interesting findings)\n",
    "4. **Step 4**: Re-run neural network learner from Assignment #1 on one dataset with each of the dimensionality reduction algorithms applied. (2 total demonstrations)\n",
    "5. **Step 5**: Use clusters from Step 1 as new features, and re-run the neural network learner on the same dataset as Step 4. (2 demonstrations)"
   ]
  },
  {
   "cell_type": "markdown",
   "metadata": {},
   "source": [
    "## Report Contents:\n",
    "- Brief description of datasets and hypotheses\n",
    "- Explanations of methods\n",
    "- Grounded descriptions of resulting clusters\n",
    "- Analysis of results, including comparison of algorithms\n",
    "- Description of how data looks in new spaces created by dimensionality reduction\n",
    "- Reproduction of clustering experiments on dimensionality-reduced data\n",
    "- Discussion of neural network performance differences"
   ]
  },
  {
   "cell_type": "markdown",
   "metadata": {},
   "source": [
    "# Python Experiments Plan\n",
    "\n",
    "#### Preliminary Steps:\n",
    "1. Data Loading\n",
    "2. Data Exploration\n",
    "3. Data Preprocessing\n",
    "\n",
    "#### Step 1: Clustering Algorithms\n",
    "1. Implement K-Means\n",
    "2. Implement Expectation Maximization\n",
    "\n",
    "#### Step 2: Dimensionality Reduction Algorithms\n",
    "1. Implement PCA\n",
    "2. Implement ICA\n",
    "3. Implement Randomized Projections\n",
    "4. Implement t-SNE\n",
    "\n",
    "#### Step 3: Re-apply Clustering\n",
    "1. K-Means and Expectation Maximization on dimensionality-reduced datasets\n",
    "\n",
    "#### Step 4: Neural Networks\n",
    "1. Re-run neural network learner from A1 on dimensionality-reduced dataset (only Wine)\n",
    "\n",
    "#### Step 5: Neural Networks with Cluster Features\n",
    "1. Use K-Means and Expectation Maximization clusters as features and re-run neural network (on Wine dataset)"
   ]
  },
  {
   "cell_type": "markdown",
   "metadata": {},
   "source": [
    "## Data Analysis and Visualization\n",
    "1. Evaluation Metrics for Clustering\n",
    "2. Evaluation Metrics for Dimensionality Reduction\n",
    "3. Evaluation Metrics for Neural Networks"
   ]
  },
  {
   "cell_type": "code",
   "execution_count": null,
   "metadata": {},
   "outputs": [],
   "source": []
  },
  {
   "cell_type": "code",
   "execution_count": null,
   "metadata": {},
   "outputs": [],
   "source": []
  },
  {
   "cell_type": "code",
   "execution_count": null,
   "metadata": {},
   "outputs": [],
   "source": []
  }
 ],
 "metadata": {
  "language_info": {
   "name": "python"
  }
 },
 "nbformat": 4,
 "nbformat_minor": 2
}
